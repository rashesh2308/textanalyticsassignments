{
 "cells": [
  {
   "cell_type": "markdown",
   "metadata": {},
   "source": [
    "<h1> <center> Table of Contents </center> </h1>\n",
    "\n",
    "<div class=\"alert alert-block alert-info\" style=\"margin-top: 20px\">\n",
    "    <ol>\n",
    "        <li><a href=\"#1.-Required-Libraries\"> Required Libraries</a></li>\n",
    "        <li><a href=\"#2.-Importing-the-Data\"> Importing the Data</a></li>\n",
    "        <li><a href=\"#3.-Creating-Corpus\"> Creating-Corpus</a> </li>\n",
    "        <li><a href=\"#4.-Using-Fuzzywuzzy-to-get-best-matched-dashboards\"> Using Fuzzywuzzy to get best matched dashboards</a></li> \n",
    "        <li><a href=\"#5.-Measuring-the-accuracy-of-the-code\"> Measuring the accuracy of the code</a></li>\n",
    "      </li>\n",
    "    </ol>\n",
    "</div>"
   ]
  },
  {
   "cell_type": "code",
   "execution_count": 1,
   "metadata": {},
   "outputs": [
    {
     "data": {
      "text/html": [
       "<style type=\"text/css\">\n",
       "table.dataframe td, table.dataframe th {\n",
       "    border: 1px  black solid !important;\n",
       "  color: black !important;\n",
       "}\n",
       "</style>\n"
      ],
      "text/plain": [
       "<IPython.core.display.HTML object>"
      ]
     },
     "metadata": {},
     "output_type": "display_data"
    }
   ],
   "source": [
    "%%HTML\n",
    "<style type=\"text/css\">\n",
    "table.dataframe td, table.dataframe th {\n",
    "    border: 1px  black solid !important;\n",
    "  color: black !important;\n",
    "}\n",
    "</style>"
   ]
  },
  {
   "cell_type": "markdown",
   "metadata": {},
   "source": [
    "# 1. Required Libraries "
   ]
  },
  {
   "cell_type": "markdown",
   "metadata": {},
   "source": [
    "## pip installs"
   ]
  },
  {
   "cell_type": "code",
   "execution_count": 2,
   "metadata": {},
   "outputs": [],
   "source": [
    "#!pip install python-Levenshtein\n",
    "#!pip install \"fuzzywuzzy==0.18.0\"\n",
    "#!pip install rapidfuzz\n",
    "#!pip install spacy\n",
    "#!pip install gensim\n",
    "#!pip install rank_bm25\n",
    "#!python -m spacy download en_core_web_lg\n",
    "#!pip install fast-autocomplete"
   ]
  },
  {
   "cell_type": "markdown",
   "metadata": {},
   "source": [
    "## Imports "
   ]
  },
  {
   "cell_type": "code",
   "execution_count": 3,
   "metadata": {},
   "outputs": [
    {
     "name": "stderr",
     "output_type": "stream",
     "text": [
      "/Users/rasheshkothari/opt/anaconda3/lib/python3.8/site-packages/fuzzywuzzy/fuzz.py:11: UserWarning: Using slow pure-python SequenceMatcher. Install python-Levenshtein to remove this warning\n",
      "  warnings.warn('Using slow pure-python SequenceMatcher. Install python-Levenshtein to remove this warning')\n"
     ]
    }
   ],
   "source": [
    "import pandas as pd\n",
    "from pandas.core.common import flatten\n",
    "import numpy as np\n",
    "\n",
    "from fuzzywuzzy import fuzz\n",
    "from fuzzywuzzy import process\n",
    "\n",
    "import rapidfuzz\n",
    "from rapidfuzz import process, utils\n",
    "\n",
    "import timeit\n",
    "import time\n",
    "\n",
    "import warnings\n",
    "warnings.filterwarnings('ignore')"
   ]
  },
  {
   "cell_type": "markdown",
   "metadata": {},
   "source": [
    "## 2. Importing the Data"
   ]
  },
  {
   "cell_type": "code",
   "execution_count": 4,
   "metadata": {},
   "outputs": [],
   "source": [
    "#importing the file\n",
    "dfdashboards = pd.read_csv('microstrategy_and_dashboard.csv')\n",
    "dfmetrics = pd.read_csv('tableau_metric.csv')\n",
    "dfuserquey = pd.read_csv('sample_user_searchs.csv')"
   ]
  },
  {
   "cell_type": "code",
   "execution_count": 5,
   "metadata": {},
   "outputs": [],
   "source": [
    "def preprocess_datafiles(dashboard , metric):\n",
    "\n",
    "    #converting column values to lowercase\n",
    "    dashboard = dashboard.apply(lambda x: x.astype(str).str.lower())\n",
    "    metric = metric.apply(lambda x: x.astype(str).str.lower())\n",
    "    \n",
    "    #converting global usage to numeric\n",
    "    dashboard.Global_usage = pd.to_numeric(dashboard.Global_usage)\n",
    "    \n",
    "    #splitting caption and descriptors columns \n",
    "    dashboard = dashboard[['dashboards','caption','Global_usage']]\n",
    "    dashboard['metric_names'] = dashboard.caption.str.split('|')\n",
    "    metric['descriptors'] = metric.descriptors.str.split('|')\n",
    "    \n",
    "    #converting metric names and descriptors in each row values to multiple rows\n",
    "\n",
    "    temp1 = dashboard.set_index(['dashboards'])['metric_names'].apply(pd.Series).stack().reset_index().drop('level_1', axis=1).rename(columns={0:'caption'})\n",
    "    temp2 = metric.set_index(['metric_name'])['descriptors'].apply(pd.Series).stack().reset_index().drop('level_1', axis=1).rename(columns={0:'descriptor'})\n",
    "    \n",
    "    #merging metrics and descriptors\n",
    "\n",
    "    master = temp1.merge(temp2, how = 'inner', left_on ='caption', right_on = 'metric_name')[['dashboards','metric_name','descriptor']]\n",
    "    master = master.rename(columns={\"dashboards\":\"dashboard_names\", \"metric_name\": \"metric_names\", \"descriptor\": \"descriptor_names\"})\n",
    "\n",
    "    return master\n",
    "\n"
   ]
  },
  {
   "cell_type": "code",
   "execution_count": 6,
   "metadata": {},
   "outputs": [],
   "source": [
    "#\"This is the final dataframe we would be using.\"\n",
    "master = preprocess_datafiles(dfdashboards,dfmetrics)"
   ]
  },
  {
   "cell_type": "markdown",
   "metadata": {},
   "source": [
    "## 3. Creating Corpus"
   ]
  },
  {
   "cell_type": "code",
   "execution_count": 8,
   "metadata": {},
   "outputs": [],
   "source": [
    "\n",
    "dashboard_names_list = list(master.dashboard_names.unique())\n",
    "metric_names_list = list(master.metric_names.unique())\n",
    "descriptor_names_list = list(master.descriptor_names.unique())\n",
    "mastercorpus = dashboard_names_list + metric_names_list + descriptor_names_list\n",
    "\n",
    "mastercorpus = list(filter(None,mastercorpus))"
   ]
  },
  {
   "cell_type": "markdown",
   "metadata": {},
   "source": [
    "## 4. Using Fuzzywuzzy to get best matched dashboards"
   ]
  },
  {
   "cell_type": "markdown",
   "metadata": {},
   "source": [
    "FuzzyWuzzy is a library of Python which is used for string matching. Fuzzy string matching is the process of finding strings that match a given pattern. Basically it uses <b>Levenshtein Distance</b> to calculate the differences between sequences.\n"
   ]
  },
  {
   "cell_type": "code",
   "execution_count": 9,
   "metadata": {},
   "outputs": [],
   "source": [
    "#Logic to get the dashboards\n",
    "\n",
    "def fuzzywuzzy_suggestion(corpus, input_query):\n",
    "    for i in [corpus]:\n",
    "        return process.extract(input_query, i, limit=10)\n",
    "\n",
    "def dashboard_names_suggestion(master, suggestions):\n",
    "    dashboard_names = []   \n",
    "    for i in suggestions:\n",
    "        \n",
    "        if i in dashboard_names_list:    \n",
    "            dashboard_names.append(i)\n",
    "        \n",
    "        elif i in metric_names_list:    \n",
    "            dashboard_names = dashboard_names + (master.loc[(master.metric_names.str.lower() == i)].dashboard_names).to_list()\n",
    "        \n",
    "        else:\n",
    "            dashboard_names = dashboard_names + (master.loc[(master.descriptor_names.str.lower() == i)].dashboard_names).to_list()\n",
    "\n",
    "    return dashboard_names"
   ]
  },
  {
   "cell_type": "code",
   "execution_count": 10,
   "metadata": {},
   "outputs": [],
   "source": [
    "token_set_ratio_sugg = {}\n",
    "\n",
    "def fuzzywuzzy_scorers_suggestions(usersearch, corpus):\n",
    "    for token in corpus:\n",
    "        sugg_score = fuzz.token_set_ratio(usersearch, token)\n",
    "        token_set_ratio_sugg[token] = sugg_score\n",
    "\n",
    "        \n",
    "def fuzzywuzzy_scorers_similiarity(scorers,suggestions_count,sort_scorers):\n",
    "   \n",
    "    scoreDf = pd.DataFrame()\n",
    "    scoreDf = scoreDf.from_dict([token_set_ratio_sugg]).T.reset_index()\n",
    "    scoreDf.columns = ['suggestion','token_set_ratio_sugg']\n",
    "#     scoreDf['mean'] = scoreDf.mean(axis = 1)\n",
    "    \n",
    "    return scoreDf[scorers].sort_values(by = sort_scorers, ascending = False).head(suggestions_count)"
   ]
  },
  {
   "cell_type": "code",
   "execution_count": 15,
   "metadata": {},
   "outputs": [
    {
     "name": "stdout",
     "output_type": "stream",
     "text": [
      "Macro style values 11 CT 22 OZ bottle Dollar sales\n"
     ]
    }
   ],
   "source": [
    "input_query = input()"
   ]
  },
  {
   "cell_type": "code",
   "execution_count": 16,
   "metadata": {},
   "outputs": [
    {
     "name": "stdout",
     "output_type": "stream",
     "text": [
      "User Search : Macro style values 11 CT 22 OZ bottle Dollar sales\n",
      "Displaying the dashboards names by each scorer methods.\n"
     ]
    },
    {
     "data": {
      "text/html": [
       "<div>\n",
       "<style scoped>\n",
       "    .dataframe tbody tr th:only-of-type {\n",
       "        vertical-align: middle;\n",
       "    }\n",
       "\n",
       "    .dataframe tbody tr th {\n",
       "        vertical-align: top;\n",
       "    }\n",
       "\n",
       "    .dataframe thead th {\n",
       "        text-align: right;\n",
       "    }\n",
       "</style>\n",
       "<table border=\"1\" class=\"dataframe\">\n",
       "  <thead>\n",
       "    <tr style=\"text-align: right;\">\n",
       "      <th></th>\n",
       "      <th>Dashboard Suggestions</th>\n",
       "    </tr>\n",
       "  </thead>\n",
       "  <tbody>\n",
       "    <tr>\n",
       "      <th>0</th>\n",
       "      <td>ad analysis</td>\n",
       "    </tr>\n",
       "    <tr>\n",
       "      <th>1</th>\n",
       "      <td>r geography over time</td>\n",
       "    </tr>\n",
       "    <tr>\n",
       "      <th>2</th>\n",
       "      <td>category and segment analysis</td>\n",
       "    </tr>\n",
       "    <tr>\n",
       "      <th>3</th>\n",
       "      <td>competitive set</td>\n",
       "    </tr>\n",
       "    <tr>\n",
       "      <th>4</th>\n",
       "      <td>dimensions over time</td>\n",
       "    </tr>\n",
       "    <tr>\n",
       "      <th>5</th>\n",
       "      <td>line geogs over time</td>\n",
       "    </tr>\n",
       "    <tr>\n",
       "      <th>6</th>\n",
       "      <td>market share</td>\n",
       "    </tr>\n",
       "    <tr>\n",
       "      <th>7</th>\n",
       "      <td>package analysis</td>\n",
       "    </tr>\n",
       "    <tr>\n",
       "      <th>8</th>\n",
       "      <td>rankers</td>\n",
       "    </tr>\n",
       "    <tr>\n",
       "      <th>9</th>\n",
       "      <td>style analysis</td>\n",
       "    </tr>\n",
       "  </tbody>\n",
       "</table>\n",
       "</div>"
      ],
      "text/plain": [
       "           Dashboard Suggestions\n",
       "0                    ad analysis\n",
       "1          r geography over time\n",
       "2  category and segment analysis\n",
       "3                competitive set\n",
       "4           dimensions over time\n",
       "5           line geogs over time\n",
       "6                   market share\n",
       "7               package analysis\n",
       "8                        rankers\n",
       "9                 style analysis"
      ]
     },
     "metadata": {},
     "output_type": "display_data"
    }
   ],
   "source": [
    "# FUNCTION CALLING \n",
    "fuzzywuzzy_scorers_suggestions(input_query.lower(), mastercorpus)\n",
    "\n",
    "fuzzyScorers = ['suggestion','token_set_ratio_sugg']\n",
    "scorersSorting = ['token_set_ratio_sugg']\n",
    "\n",
    "allScorersOutput = []\n",
    "\n",
    "\n",
    "fuzzywuzzySearchOutput = []\n",
    "\n",
    "# FUNCTION CALLING \n",
    "scoreSortedDf = fuzzywuzzy_scorers_similiarity(scorers=fuzzyScorers, suggestions_count = 15,sort_scorers= scorersSorting)\n",
    "\n",
    "scoreSortedDf.sort_values(scorersSorting, ascending = False)\n",
    "\n",
    "#FUNCTION CALLING\n",
    "fuzzywuzzyDashboardsList = list(dashboard_names_suggestion(master, scoreSortedDf['suggestion'][:10]))\n",
    "\n",
    "fuzzywuzzySearchOutput = list(dict.fromkeys(fuzzywuzzyDashboardsList))\n",
    "allScorersOutput.append(fuzzywuzzySearchOutput[:10])\n",
    "    \n",
    "\n",
    "scorersSuggestionsDf = pd.concat([d.reset_index(drop=True) for d in [\n",
    "                        scoreSortedDf.sort_values(['token_set_ratio_sugg'], ascending = False)[['suggestion']],\n",
    "                       ]],axis=1)\n",
    "\n",
    "scorersSuggestionsDf.columns  = ['token_set_ratio_sugg']\n",
    "\n",
    "print('User Search : ' + str(input_query))\n",
    "\n",
    "column_names = ['Dashboard Suggestions']\n",
    "finalSuggestionDF = pd.DataFrame(allScorersOutput).transpose().set_axis(column_names, axis =1)\n",
    "print(\"Displaying the dashboards names by each scorer methods.\")\n",
    "display(finalSuggestionDF)"
   ]
  },
  {
   "cell_type": "code",
   "execution_count": null,
   "metadata": {},
   "outputs": [],
   "source": []
  }
 ],
 "metadata": {
  "kernelspec": {
   "display_name": "Python 3",
   "language": "python",
   "name": "python3"
  },
  "language_info": {
   "codemirror_mode": {
    "name": "ipython",
    "version": 3
   },
   "file_extension": ".py",
   "mimetype": "text/x-python",
   "name": "python",
   "nbconvert_exporter": "python",
   "pygments_lexer": "ipython3",
   "version": "3.8.5"
  }
 },
 "nbformat": 4,
 "nbformat_minor": 4
}
