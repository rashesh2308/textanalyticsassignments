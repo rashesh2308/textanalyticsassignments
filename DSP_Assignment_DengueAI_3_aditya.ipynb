{
 "cells": [
  {
   "cell_type": "markdown",
   "metadata": {},
   "source": [
    "## <font color='green'> Assignment 3</font>"
   ]
  },
  {
   "cell_type": "code",
   "execution_count": 39,
   "metadata": {},
   "outputs": [],
   "source": [
    "# Loading required libraries\n",
    "from sklearn.model_selection import train_test_split\n",
    "from sklearn.preprocessing import StandardScaler\n",
    "from sklearn.metrics import mean_squared_error\n",
    "from sklearn.svm import SVR\n",
    "from sklearn.svm import LinearSVR\n",
    "\n",
    "from math import sqrt\n",
    "import pandas as pd\n",
    "import numpy as np\n",
    "\n",
    "\n",
    "from matplotlib.pyplot import figure\n",
    "import matplotlib.pyplot as plt\n",
    "import seaborn as sns\n",
    "%matplotlib inline\n",
    "\n",
    "\n",
    "import warnings\n",
    "warnings.filterwarnings('ignore')"
   ]
  },
  {
   "cell_type": "markdown",
   "metadata": {},
   "source": [
    "### <font color='blue'> 1. Write a brief statement: Is it required to consider the repeating features in the model? (For example: precipitation_amt_mm and reanalysis_sat_precip_amt_mm. Similarly there are others). List which features you will choose in this model. Select the required columns in the dataframe and drop the others.</font>"
   ]
  },
  {
   "cell_type": "code",
   "execution_count": 40,
   "metadata": {},
   "outputs": [
    {
     "data": {
      "text/plain": [
       "(1409, 22)"
      ]
     },
     "execution_count": 40,
     "metadata": {},
     "output_type": "execute_result"
    }
   ],
   "source": [
    "assign_3 = pd.read_csv(\"C:/Users/mohad/Documents/USF/DSP/assignment_2/data_assignment_2.csv\")\n",
    "assign_3.drop('prec_amt_mm',axis=1,inplace=True)\n",
    "# print(assign_3.columns)\n",
    "assign_3.shape"
   ]
  },
  {
   "cell_type": "code",
   "execution_count": 41,
   "metadata": {},
   "outputs": [
    {
     "data": {
      "text/plain": [
       "re_an_max_air_temp_k        re_an_tdtr_k                  0.920176\n",
       "re_an_tdtr_k                re_an_max_air_temp_k          0.920176\n",
       "re_an_specific_hd_g_per_kg  re_an_dew_point_temp_k        0.997015\n",
       "re_an_dew_point_temp_k      re_an_specific_hd_g_per_kg    0.997015\n",
       "dtype: float64"
      ]
     },
     "execution_count": 41,
     "metadata": {},
     "output_type": "execute_result"
    }
   ],
   "source": [
    "c = assign_3.corr().abs()\n",
    "sort = c.unstack() \n",
    "correlated_cols = sort.sort_values(kind=\"quicksort\") \n",
    "correlated_cols = correlated_cols.dropna() \n",
    "correlated_cols[(correlated_cols.values > 0.9) & (correlated_cols.values <1)]"
   ]
  },
  {
   "cell_type": "markdown",
   "metadata": {},
   "source": [
    "    When two attributes give information about the same thing then they are duplicates and these might trick our model in    terms of rule generation. As the two attributes have same data, the rules generated will be same thus, there wont be any use of having such duplicate columns"
   ]
  },
  {
   "cell_type": "markdown",
   "metadata": {},
   "source": [
    "So looking at the variables, I am dropping the columns which have high corelation (0.9 >).\n",
    "These variables are :\n",
    "\n",
    "    re_an_max_air_temp_k - This is intercorelated with re_an_tdtr_k. Hence I am dropping this as re_an_tdtr_k is the difference between max and min temparature of the day\n",
    "    \n",
    "    \n",
    "    re_an_dew_point_temp_k - This is corelated with  re_an_specific_hd_g_per_kg. This says that the pressure is highly dependent on temparature. Hence droppping the pressure\n",
    "    "
   ]
  },
  {
   "cell_type": "code",
   "execution_count": 42,
   "metadata": {},
   "outputs": [],
   "source": [
    "assign_3 = assign_3.drop(['re_an_max_air_temp_k','re_an_dew_point_temp_k'],axis=1)"
   ]
  },
  {
   "cell_type": "markdown",
   "metadata": {},
   "source": [
    "### <font color='blue'>2. Preprocess the data</font>\n",
    "\n",
    "\n",
    "    A) Encode the categorical features: Already created in assignment 2\n"
   ]
  },
  {
   "cell_type": "code",
   "execution_count": 43,
   "metadata": {},
   "outputs": [],
   "source": [
    "# categoricalFeatureNames = [\"city\", 'year']\n",
    "\n",
    "# #convert the attributes listed above to categorical form\n",
    "\n",
    "# for var in categoricalFeatureNames:\n",
    "#     assign_3[var] = assign_3[var].astype(\"category\")\n",
    "    \n",
    "# X_assign_3_dummies = pd.get_dummies(X_train[['city','year']])"
   ]
  },
  {
   "cell_type": "markdown",
   "metadata": {},
   "source": [
    "     B) Abbreviate the column names - Worked on it in assignment 1"
   ]
  },
  {
   "cell_type": "code",
   "execution_count": 44,
   "metadata": {},
   "outputs": [],
   "source": [
    "# assign_3.columns = assign_3.columns.str.replace(r\"reanalysis\", \"re_an\")\n",
    "# assign_3.columns = assign_3.columns.str.replace(r\"humidity\", \"hd\")\n",
    "# assign_3.columns = assign_3.columns.str.replace(r\"precipitation\",\"prec\")"
   ]
  },
  {
   "cell_type": "markdown",
   "metadata": {},
   "source": [
    "      D) Handle NaNs - Filled with Mean in assignment 1"
   ]
  },
  {
   "cell_type": "code",
   "execution_count": 45,
   "metadata": {},
   "outputs": [],
   "source": [
    "# assign_3 = assign_3.fillna(method='ffill')"
   ]
  },
  {
   "cell_type": "markdown",
   "metadata": {},
   "source": [
    "     E) Convert percentage to value/100 (check which option gives better result, as-is or divided/100)"
   ]
  },
  {
   "cell_type": "code",
   "execution_count": 46,
   "metadata": {},
   "outputs": [],
   "source": [
    "#Converting to just value did not improve the accuracy much. Just with percentage, I got a decent model"
   ]
  },
  {
   "cell_type": "markdown",
   "metadata": {},
   "source": [
    "      F) Scale the vegetation features (ndvi*) as 0, 1 (0 <= 0.25 and 1 > 0.25) as it is in scale of 0 to 0.5. Retain as is or use other scaling based on how model performs."
   ]
  },
  {
   "cell_type": "code",
   "execution_count": 47,
   "metadata": {},
   "outputs": [],
   "source": [
    "#I found th scaling option to be better with slight improve in the model performance\n",
    "veg_features = ['ndvi_ne','ndvi_nw','ndvi_se','ndvi_sw']\n",
    "for i in veg_features:\n",
    "    assign_3[i][assign_3[i] <= 0.25] = 0\n",
    "    assign_3[i][assign_3[i] > 0.25] = 1\n",
    "    assign_3[i] = assign_3[i].astype('category')"
   ]
  },
  {
   "cell_type": "markdown",
   "metadata": {},
   "source": [
    "      C & G) Standardize the numerical features, Make an 80-20 train-test split"
   ]
  },
  {
   "cell_type": "code",
   "execution_count": 48,
   "metadata": {},
   "outputs": [],
   "source": [
    "X_numeric = assign_3.drop(columns=['city', 'year','total_cases',\n",
    "                                    'ndvi_ne','ndvi_nw','ndvi_se','ndvi_sw'])\n",
    "assign_3['year'] = assign_3.year.astype('category')\n",
    "dummy_attributes = assign_3[['city', 'year',\n",
    "                                    'ndvi_ne','ndvi_nw','ndvi_se','ndvi_sw']]\n",
    "X_dummies = pd.get_dummies(dummy_attributes)\n",
    "X_data = pd.concat([X_numeric,X_dummies ],axis=1)\n",
    "y_data = assign_3['total_cases']\n",
    "X_train, X_test, y_train, y_test = train_test_split(X_data, y_data, test_size=0.20)\n",
    "\n",
    "scaler = StandardScaler()\n",
    "standardized_numeric_data = scaler.fit_transform(X_train[X_numeric.columns])\n",
    "X_train_np = np.concatenate((standardized_numeric_data,np.array(X_train[X_dummies.columns])),axis=1)\n",
    "standardized_numeric_data_test = scaler.transform(X_test[X_numeric.columns])\n",
    "X_test_np = np.concatenate((standardized_numeric_data_test,np.array(X_test[X_dummies.columns])),axis=1)"
   ]
  },
  {
   "cell_type": "markdown",
   "metadata": {},
   "source": [
    "### <font color='blue'>3.Build a Linear SVR regressor, train the model</font>"
   ]
  },
  {
   "cell_type": "markdown",
   "metadata": {},
   "source": [
    "<font color='green'>      a. Evaluate your model based on applicable metrics. Show the metric(s) you chose and why you chose this(these) metrics. </font>\n",
    "    \n",
    "    I chose RMSE error (Root Mean Square Error). It is measure on how far from the regression line the data points are. THe RMSE error gives low weightage to points around the best fit line and high weightage to points farther from the line. It basically tells us how concentrated the data is arounf the line of best fit. The high error on train and low on test says that the model is under fitting and we can increase its complexity.\n",
    "   "
   ]
  },
  {
   "cell_type": "code",
   "execution_count": 49,
   "metadata": {},
   "outputs": [
    {
     "name": "stdout",
     "output_type": "stream",
     "text": [
      "The training error of the model is  19.366097774934378\n",
      "The testing error of the model is  11.788679348389529\n"
     ]
    }
   ],
   "source": [
    "svr_lin = LinearSVR()\n",
    "# With C as 1 and the l1 at 0 model is very naive and has high error.\n",
    "\n",
    "svr_lin.fit(X_train_np,y_train)\n",
    "y_train_predict = svr_lin.predict(X_train_np)\n",
    "y_test_predict = svr_lin.predict(X_test_np)\n",
    "train_errors= sqrt(mean_squared_error(y_train, y_train_predict))\n",
    "test_errors = sqrt(mean_squared_error(y_test, y_test_predict))\n",
    "print(\"The training error of the model is \", train_errors)\n",
    "print(\"The testing error of the model is \", test_errors)"
   ]
  },
  {
   "cell_type": "code",
   "execution_count": 50,
   "metadata": {},
   "outputs": [
    {
     "name": "stdout",
     "output_type": "stream",
     "text": [
      "The training error of the model is  18.72445561689593\n",
      "The testing error of the model is  11.291289770518974\n"
     ]
    }
   ],
   "source": [
    "svr_lin = LinearSVR(C=10, loss = 'epsilon_insensitive',epsilon=0.3)\n",
    "# With a higher Slack value of 10 and L1 regularization set at 0.3, I got reduction in the test and traing error\n",
    "\n",
    "svr_lin.fit(X_train_np,y_train)\n",
    "y_train_predict = svr_lin.predict(X_train_np)\n",
    "y_test_predict = svr_lin.predict(X_test_np)\n",
    "train_errors= sqrt(mean_squared_error(y_train, y_train_predict))\n",
    "test_errors = sqrt(mean_squared_error(y_test, y_test_predict))\n",
    "print(\"The training error of the model is \", train_errors)\n",
    "print(\"The testing error of the model is \", test_errors)\n"
   ]
  },
  {
   "cell_type": "markdown",
   "metadata": {},
   "source": [
    "<font color='green'>      b. List the hyper-parameters that can be tuned in Linear SVR. Explain the meaning of each hyper-parameter. Show the code along with comments on the parameter value chosen (use class presentation, discussion notes, some online reading) and why this value was chosen. Show the improvement you achieved in model accuracy. </font>\n",
    "    \n",
    "    \n",
    "    The Linear SVR is similar to the Traditional SVR but it supports only linear kernel and is implemented in terms of liblinear rather than libsvm.\n",
    "\n",
    "There are two main parameters to tune in the Linear version of SVR:\n",
    "  1. The choice of penalties - The penality is represented by C. This is the amount of influence slack variables has on the function. Slack variable is the non-linear points which are tough to classify. Hence, we will ignore these points. The C is the way of saying how much to ignore.  With high C value the models puts penalities on the slack points and hence creates an over-complicated one.\n",
    "  \n",
    "  2. Loss functions- The Lasso (L1) loss function is the standard way of entering the value in Linear SVR. By setting loss as epsilon insensitive we are saying it to start with L1 regularization and with epsilon of 0.3 I got least error"
   ]
  },
  {
   "cell_type": "markdown",
   "metadata": {},
   "source": [
    "<font color='green'>      c. Plot Learning curve and provide insights </font>\n",
    "\n",
    "\n",
    "    From the learning curve we can see that the error in train and test samples has stabilized after 150 samples. But as this is a linear kernel, it was not able to reduce the error further and with increase in the sample size the model did not learn much"
   ]
  },
  {
   "cell_type": "code",
   "execution_count": 51,
   "metadata": {},
   "outputs": [
    {
     "data": {
      "text/plain": [
       "<matplotlib.legend.Legend at 0x1a864bbecc0>"
      ]
     },
     "execution_count": 51,
     "metadata": {},
     "output_type": "execute_result"
    },
    {
     "data": {
      "image/png": "[encoded data removed]",
      "text/plain": [
       "<Figure size 720x480 with 1 Axes>"
      ]
     },
     "metadata": {},
     "output_type": "display_data"
    }
   ],
   "source": [
    "train_errors, test_errors = [], []\n",
    "for m in range(1, len(X_train_np)):\n",
    "    svr_lin.fit(X_train_np[:m], y_train[:m])\n",
    "    y_train_predict = svr_lin.predict(X_train_np[:m])\n",
    "    y_test_predict = svr_lin.predict(X_test_np)\n",
    "    train_errors.append(sqrt(mean_squared_error(y_train[:m], y_train_predict)))\n",
    "    test_errors.append(sqrt(mean_squared_error(y_test, y_test_predict)))\n",
    "    \n",
    "figure(num=None, figsize=(9,6), dpi=80, facecolor='w', edgecolor='k')    \n",
    "plt.plot(train_errors, \"r+-\", linewidth=2, label = \"Train\")\n",
    "plt.plot(test_errors, \"b-\", linewidth=3, label = \"Test\")\n",
    "plt.title(\"The Learning curve with respect to number of samples in Training Dataset\")\n",
    "plt.legend(loc=\"upper right\", fontsize=14) \n",
    "plt.xlabel(\"Training set size\", fontsize=14)\n",
    "plt.ylabel(\"RMSE\", fontsize=14)\n",
    "plt.legend()"
   ]
  },
  {
   "cell_type": "markdown",
   "metadata": {},
   "source": [
    "### <font color='blue'>4. Build a SVR model with Linear Kernel, train the model"
   ]
  },
  {
   "cell_type": "markdown",
   "metadata": {},
   "source": [
    "<font color='green'>    a. Evaluate your model based on applicable metrics. Show the metric(s) you chose and why you chose this(these) metrics.\n",
    "    \n",
    "      I chose RMSE error (Root Mean Square Error). It is measure on how far from the regression line the data points are. THe RMSE error gives low weightage to points around the best fit line and high weightage to points farther from the line. It basically tells us how concentrated the data is arounf the line of best fit\n",
    "    \n",
    "<font color='green'>      b. List the hyper-parameters that can be tuned in SVR model with Linear Kernel. Show the code along with comments on the parameter value chosen (use class presentation, discussion notes, some online reading) and why this value was chosen. Show the improvement you achieved in model accuracy. \n",
    "  \n",
    "  \n",
    "      There are mainly Three parameters that can be tweaked to improve the performance of model\n",
    "    \n",
    "    C- Regularization Parameter - The Cost function on the slack variable. This controls the train error and test error relationship. To have a highly fitted model C value should be high\n",
    "\n",
    "    gamma- The kernel co-efficient for Non-linear functions.  The degree to which we can use the kernel, it is used to set the amount of N dimensions we can throw data and a complexity manager for kernel\n",
    "\n",
    "\n",
    "    Kernel - The type of Kernel for creating the hyperplane. This is the kernel matrix or kernel trick. There are different kernels A linear kernel throws the data in N dimensions and plots a linear curve, The Polynomial kernel increases the complexity and plots a curved hyperplane, Radial and hyperbolic ca learn any complex patterns."
   ]
  },
  {
   "cell_type": "code",
   "execution_count": 52,
   "metadata": {},
   "outputs": [
    {
     "name": "stdout",
     "output_type": "stream",
     "text": [
      "The training error of the model is  19.361016400519453\n",
      "The testing error of the model is  11.797820513660284\n"
     ]
    }
   ],
   "source": [
    "lin_svr = SVR(kernel = 'linear')\n",
    "lin_svr.fit(X_train_np,y_train)\n",
    "y_train_predict = lin_svr.predict(X_train_np)\n",
    "y_test_predict = lin_svr.predict(X_test_np)\n",
    "train_errors= sqrt(mean_squared_error(y_train, y_train_predict))\n",
    "test_errors = sqrt(mean_squared_error(y_test, y_test_predict))\n",
    "print(\"The training error of the model is \", train_errors)\n",
    "print(\"The testing error of the model is \", test_errors)"
   ]
  },
  {
   "cell_type": "code",
   "execution_count": 53,
   "metadata": {},
   "outputs": [
    {
     "name": "stdout",
     "output_type": "stream",
     "text": [
      "The training error of the model is  18.62038998562231\n",
      "The testing error of the model is  11.290467427537049\n"
     ]
    }
   ],
   "source": [
    "lin_svr = SVR(C=100,kernel = 'linear',epsilon=0.3,coef0=0.1,gamma='auto')\n",
    "lin_svr.fit(X_train_np,y_train)\n",
    "y_train_predict = lin_svr.predict(X_train_np)\n",
    "y_test_predict = lin_svr.predict(X_test_np)\n",
    "train_errors= sqrt(mean_squared_error(y_train, y_train_predict))\n",
    "test_errors = sqrt(mean_squared_error(y_test, y_test_predict))\n",
    "print(\"The training error of the model is \", train_errors)\n",
    "print(\"The testing error of the model is \", test_errors)"
   ]
  },
  {
   "cell_type": "markdown",
   "metadata": {},
   "source": [
    "<font color='green'> c. Plot Learning curve and provide insights\n",
    "    \n",
    "    THe Learning curve of Linear SVM with kernel is similar to the linear SVR, as these two are build from the same concepts. It is expected to have same output. The only difference I noticed is the time taken to perform training. The Linear SVR took very less time when comoared to the SVR with Kernel. Apart from it the information is same as above. Stabilizing after 150 samples"
   ]
  },
  {
   "cell_type": "code",
   "execution_count": null,
   "metadata": {},
   "outputs": [],
   "source": [
    "train_errors, test_errors = [], []\n",
    "for m in range(1, len(X_train_np)):\n",
    "    lin_svr.fit(X_train_np[:m], y_train[:m])\n",
    "    y_train_predict = lin_svr.predict(X_train_np[:m])\n",
    "    y_test_predict = lin_svr.predict(X_test_np)\n",
    "    train_errors.append(sqrt(mean_squared_error(y_train[:m], y_train_predict)))\n",
    "    test_errors.append(sqrt(mean_squared_error(y_test, y_test_predict)))\n",
    "    \n",
    "figure(num=None, figsize=(9, 6), dpi=80, facecolor='w', edgecolor='k')    \n",
    "plt.plot(train_errors, \"r+-\", linewidth=2, label = \"Train\")\n",
    "plt.plot(test_errors, \"b-\", linewidth=3, label = \"Test\")\n",
    "plt.title(\"The Learning curve with respect to number of samples in Training Dataset\")\n",
    "plt.legend(loc=\"upper right\", fontsize=14) \n",
    "plt.xlabel(\"Training set size\", fontsize=14)\n",
    "plt.ylabel(\"RMSE\", fontsize=14)\n",
    "plt.legend()"
   ]
  },
  {
   "cell_type": "markdown",
   "metadata": {},
   "source": [
    "### <font color='blue'> 5. Create a submission file which has predictions for both cities in the submission format </font>"
   ]
  },
  {
   "cell_type": "code",
   "execution_count": 126,
   "metadata": {},
   "outputs": [],
   "source": [
    "test_df = pd.read_csv(\"C:/Users/mohad/Documents/USF/DSP/assignment_2/dengue_features_test.csv\")\n",
    "test_df.columns = test_df.columns.str.replace(r\"reanalysis\", \"re_an\")\n",
    "test_df.columns = test_df.columns.str.replace(r\"humidity\", \"hd\")\n",
    "test_df.columns = test_df.columns.str.replace(r\"precipitation\",\"prec\")\n",
    "test_df = test_df.fillna(method='ffill')\n",
    "\n",
    "veg_features = ['ndvi_ne','ndvi_nw','ndvi_se','ndvi_sw']\n",
    "for i in veg_features:\n",
    "    test_df[i][test_df[i] <= 0.25] = 0\n",
    "    test_df[i][test_df[i] > 0.25] = 1\n",
    "    test_df[i] = test_df[i].astype('category')"
   ]
  },
  {
   "cell_type": "code",
   "execution_count": 127,
   "metadata": {
    "scrolled": true
   },
   "outputs": [],
   "source": [
    "X_test_numeric = test_df.drop(columns=['city', 'year',\n",
    "                                    'ndvi_ne','ndvi_nw','ndvi_se','ndvi_sw','week_start_date','weekofyear'])\n",
    "test_df['year'] = test_df.year.astype('category')\n",
    "dummy_attributes = test_df[['city', 'year',\n",
    "                                    'ndvi_ne','ndvi_nw','ndvi_se','ndvi_sw']]\n",
    "# X_test_dummies = pd.get_dummies(dummy_attributes)\n",
    "X_test_dummies = dummy_attributes.reindex(columns = X_dummies.columns, fill_value=0)\n",
    "\n",
    "test_df_standardized = scaler.transform(X_test_numeric)\n",
    "test_df_np = np.concatenate((test_df_standardized,np.array(X_test_dummies)),axis=1)"
   ]
  },
  {
   "cell_type": "code",
   "execution_count": 129,
   "metadata": {},
   "outputs": [],
   "source": [
    "test_y_predict = lin_svr.predict(test_df_np)\n",
    "submission_df= test_df[[\"city\", \"year\",\"weekofyear\"]]\n",
    "submission_df[\"total_cases\"] = test_y_predict\n",
    "submission_df.to_csv(\"submission_aditya_2.csv\",index=False)"
   ]
  },
  {
   "cell_type": "markdown",
   "metadata": {},
   "source": [
    "### <font color='blue'> 7. Compare the Model Evaluation metric of SGD (Assignment 2), Linear SVR and SVR with Linear Kernel and state which model performed better along with reason why you consider so. </font>"
   ]
  },
  {
   "cell_type": "markdown",
   "metadata": {},
   "source": [
    "#####  I got better performance using Stocastic Gradient. \n",
    "\n",
    "On SGD, The error is 18.14 on train and 17.38 on test dataset\n",
    "\n",
    "Using Linear SVR the error is 17.08 on train and 19.63 on test\n",
    "\n",
    "Using just SVR the error is 17.021 on train and on 19.578 test"
   ]
  },
  {
   "cell_type": "code",
   "execution_count": null,
   "metadata": {},
   "outputs": [],
   "source": []
  },
  {
   "cell_type": "code",
   "execution_count": null,
   "metadata": {},
   "outputs": [],
   "source": []
  }
 ],
 "metadata": {
  "kernelspec": {
   "display_name": "Python 3",
   "language": "python",
   "name": "python3"
  },
  "language_info": {
   "codemirror_mode": {
    "name": "ipython",
    "version": 3
   },
   "file_extension": ".py",
   "mimetype": "text/x-python",
   "name": "python",
   "nbconvert_exporter": "python",
   "pygments_lexer": "ipython3",
   "version": "3.7.1"
  }
 },
 "nbformat": 4,
 "nbformat_minor": 2
}
