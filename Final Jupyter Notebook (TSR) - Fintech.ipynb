{
 "cells": [
  {
   "cell_type": "markdown",
   "metadata": {},
   "source": [
    "<h1> <center> Table of Contents </center> </h1>\n",
    "\n",
    "<div class=\"alert alert-block alert-info\" style=\"margin-top: 20px\">\n",
    "    <ol>\n",
    "        <li><a href=\"#1.-Required-Libraries\"> Required Libraries</a></li>\n",
    "        <li><a href=\"#2.-Importing-the-Data\"> Importing the Data</a></li>\n",
    "        <li><a href=\"#3.-Creating-Corpus\"> Creating-Corpus</a> </li>\n",
    "        <li><a href=\"#4.-Using-Fuzzywuzzy-to-get-best-matched-dashboards\"> Using Fuzzywuzzy to get best matched dashboards</a></li> \n",
    "      </li>\n",
    "    </ol>\n",
    "</div>"
   ]
  },
  {
   "cell_type": "markdown",
   "metadata": {},
   "source": [
    "# 1. Required Libraries "
   ]
  },
  {
   "cell_type": "markdown",
   "metadata": {},
   "source": [
    "## pip installs"
   ]
  },
  {
   "cell_type": "code",
   "execution_count": 68,
   "metadata": {},
   "outputs": [],
   "source": [
    "#!pip install python-Levenshtein\n",
    "#!pip install \"fuzzywuzzy==0.18.0\"\n",
    "#!pip install rapidfuzz\n",
    "#!pip install spacy\n",
    "#!pip install gensim\n",
    "#!pip install rank_bm25\n",
    "#!python -m spacy download en_core_web_lg\n",
    "#!pip install fast-autocomplete"
   ]
  },
  {
   "cell_type": "markdown",
   "metadata": {},
   "source": [
    "## Importing Libraries"
   ]
  },
  {
   "cell_type": "code",
   "execution_count": 69,
   "metadata": {},
   "outputs": [],
   "source": [
    "import pandas as pd\n",
    "from pandas.core.common import flatten\n",
    "import numpy as np\n",
    "\n",
    "from fuzzywuzzy import fuzz\n",
    "from fuzzywuzzy import process\n",
    "\n",
    "import rapidfuzz\n",
    "from rapidfuzz import process, utils\n",
    "\n",
    "import timeit\n",
    "import time\n",
    "\n",
    "import warnings\n",
    "warnings.filterwarnings('ignore')"
   ]
  },
  {
   "cell_type": "markdown",
   "metadata": {},
   "source": [
    "## 2. Importing the Data"
   ]
  },
  {
   "cell_type": "code",
   "execution_count": 70,
   "metadata": {},
   "outputs": [],
   "source": [
    "# importing the files\n",
    "dfdashboards = pd.read_csv('microstrategy_and_dashboard.csv')\n",
    "dfmetrics = pd.read_csv('tableau_metric.csv')\n",
    "dfuserquey = pd.read_csv('sample_user_searchs.csv')"
   ]
  },
  {
   "cell_type": "code",
   "execution_count": 71,
   "metadata": {},
   "outputs": [],
   "source": [
    "def preprocess_datafiles(dashboard , metric):\n",
    "\n",
    "    # converting column values to lowercase\n",
    "    dashboard = dashboard.apply(lambda x: x.astype(str).str.lower())\n",
    "    metric = metric.apply(lambda x: x.astype(str).str.lower())\n",
    "    \n",
    "    # splitting caption and descriptors columns \n",
    "    dashboard = dashboard[['dashboards','caption','Global_usage']]\n",
    "    dashboard['metric_names'] = dashboard.caption.str.split('|')\n",
    "    metric['descriptors'] = metric.descriptors.str.split('|')\n",
    "    \n",
    "    # converting metric names and descriptors in each row values to multiple rows\n",
    "    temp1 = dashboard.set_index(['dashboards'])['metric_names'].apply(pd.Series).stack().reset_index().drop('level_1', axis=1).rename(columns={0:'caption'})\n",
    "    temp2 = metric.set_index(['metric_name'])['descriptors'].apply(pd.Series).stack().reset_index().drop('level_1', axis=1).rename(columns={0:'descriptor'})\n",
    "    \n",
    "    # merging metrics and descriptors\n",
    "    master = temp1.merge(temp2, how = 'inner', left_on ='caption', right_on = 'metric_name')[['dashboards','metric_name','descriptor']]\n",
    "    master = master.rename(columns={\"dashboards\":\"dashboard_names\", \"metric_name\": \"metric_names\", \"descriptor\": \"descriptor_names\"})\n",
    "\n",
    "    return master\n",
    "\n"
   ]
  },
  {
   "cell_type": "code",
   "execution_count": 72,
   "metadata": {},
   "outputs": [
    {
     "data": {
      "text/html": [
       "<div>\n",
       "<style scoped>\n",
       "    .dataframe tbody tr th:only-of-type {\n",
       "        vertical-align: middle;\n",
       "    }\n",
       "\n",
       "    .dataframe tbody tr th {\n",
       "        vertical-align: top;\n",
       "    }\n",
       "\n",
       "    .dataframe thead th {\n",
       "        text-align: right;\n",
       "    }\n",
       "</style>\n",
       "<table border=\"1\" class=\"dataframe\">\n",
       "  <thead>\n",
       "    <tr style=\"text-align: right;\">\n",
       "      <th></th>\n",
       "      <th>dashboard_names</th>\n",
       "      <th>metric_names</th>\n",
       "      <th>descriptor_names</th>\n",
       "    </tr>\n",
       "  </thead>\n",
       "  <tbody>\n",
       "    <tr>\n",
       "      <th>0</th>\n",
       "      <td>ad analysis</td>\n",
       "      <td>beer style level value</td>\n",
       "      <td>macro style value</td>\n",
       "    </tr>\n",
       "    <tr>\n",
       "      <th>1</th>\n",
       "      <td>ad analysis</td>\n",
       "      <td>beer style level value</td>\n",
       "      <td>mezzo style value</td>\n",
       "    </tr>\n",
       "    <tr>\n",
       "      <th>2</th>\n",
       "      <td>ad analysis</td>\n",
       "      <td>beer style level value</td>\n",
       "      <td>micro style valu</td>\n",
       "    </tr>\n",
       "    <tr>\n",
       "      <th>3</th>\n",
       "      <td>ad analysis</td>\n",
       "      <td>beer style level value</td>\n",
       "      <td>beer style value</td>\n",
       "    </tr>\n",
       "    <tr>\n",
       "      <th>4</th>\n",
       "      <td>ad analysis</td>\n",
       "      <td>beer style level value</td>\n",
       "      <td>altbier</td>\n",
       "    </tr>\n",
       "  </tbody>\n",
       "</table>\n",
       "</div>"
      ],
      "text/plain": [
       "  dashboard_names            metric_names   descriptor_names\n",
       "0     ad analysis  beer style level value  macro style value\n",
       "1     ad analysis  beer style level value  mezzo style value\n",
       "2     ad analysis  beer style level value   micro style valu\n",
       "3     ad analysis  beer style level value   beer style value\n",
       "4     ad analysis  beer style level value            altbier"
      ]
     },
     "execution_count": 72,
     "metadata": {},
     "output_type": "execute_result"
    }
   ],
   "source": [
    "# Final Dataframe\n",
    "master = preprocess_datafiles(dfdashboards,dfmetrics)\n",
    "master.head()"
   ]
  },
  {
   "cell_type": "markdown",
   "metadata": {},
   "source": [
    "## 3. Creating Corpus"
   ]
  },
  {
   "cell_type": "code",
   "execution_count": 73,
   "metadata": {},
   "outputs": [
    {
     "data": {
      "text/plain": [
       "['ad analysis',\n",
       " 'ad recap',\n",
       " 'aggregate sales per pt vs. cwd',\n",
       " 'brands on ad',\n",
       " 'brewery comparisons']"
      ]
     },
     "execution_count": 73,
     "metadata": {},
     "output_type": "execute_result"
    }
   ],
   "source": [
    "dashboard_names_list = list(master.dashboard_names.unique())\n",
    "metric_names_list = list(master.metric_names.unique())\n",
    "descriptor_names_list = list(master.descriptor_names.unique())\n",
    "mastercorpus = dashboard_names_list + metric_names_list + descriptor_names_list\n",
    "\n",
    "mastercorpus = list(filter(None,mastercorpus))\n",
    "\n",
    "mastercorpus[:5]"
   ]
  },
  {
   "cell_type": "markdown",
   "metadata": {},
   "source": [
    "## 4. Using Fuzzywuzzy to get best matched dashboards"
   ]
  },
  {
   "cell_type": "markdown",
   "metadata": {},
   "source": [
    "FuzzyWuzzy is a library of Python which is used for string matching. Fuzzy string matching is the process of finding strings that match a given pattern. Basically it uses <b>Levenshtein Distance</b> to calculate the differences between sequences.\n"
   ]
  },
  {
   "cell_type": "code",
   "execution_count": 74,
   "metadata": {},
   "outputs": [],
   "source": [
    "# Logic to get the dashboards\n",
    "\n",
    "def dashboard_names_suggestion(master, suggestions):\n",
    "    \n",
    "    dashboard_names = []   \n",
    "    \n",
    "    for i in suggestions:\n",
    "        \n",
    "        if i in dashboard_names_list:    \n",
    "            dashboard_names.append(i)\n",
    "        \n",
    "        elif i in metric_names_list:    \n",
    "            dashboard_names = dashboard_names + (master.loc[(master.metric_names.str.lower() == i)].dashboard_names).to_list()\n",
    "        \n",
    "        else:\n",
    "            dashboard_names = dashboard_names + (master.loc[(master.descriptor_names.str.lower() == i)].dashboard_names).to_list()\n",
    "\n",
    "    return dashboard_names"
   ]
  },
  {
   "cell_type": "code",
   "execution_count": 75,
   "metadata": {},
   "outputs": [],
   "source": [
    "token_set_ratio_sugg = {}\n",
    "\n",
    "def fuzzywuzzy_scorers_suggestions(usersearch, corpus):\n",
    "    \n",
    "    for token in corpus:\n",
    "        sugg_score = fuzz.token_set_ratio(usersearch, token)\n",
    "        token_set_ratio_sugg[token] = sugg_score\n",
    "\n",
    "        \n",
    "def fuzzywuzzy_scorers_similiarity(scorers,suggestions_count,sort_scorers):\n",
    "   \n",
    "    scoreDf = pd.DataFrame()\n",
    "    scoreDf = scoreDf.from_dict([token_set_ratio_sugg]).T.reset_index()\n",
    "    scoreDf.columns = ['suggestion','token_set_ratio_sugg']\n",
    "#     scoreDf['mean'] = scoreDf.mean(axis = 1)\n",
    "    \n",
    "    return scoreDf[scorers].sort_values(by = sort_scorers, ascending = False).head(suggestions_count)"
   ]
  },
  {
   "cell_type": "code",
   "execution_count": 83,
   "metadata": {},
   "outputs": [
    {
     "name": "stdout",
     "output_type": "stream",
     "text": [
      "dollar sales amber ale\n"
     ]
    }
   ],
   "source": [
    "input_query = input()"
   ]
  },
  {
   "cell_type": "code",
   "execution_count": 85,
   "metadata": {},
   "outputs": [
    {
     "name": "stdout",
     "output_type": "stream",
     "text": [
      "Time taken by Method: 1.7763754190000327\n",
      "User Search : dollar sales amber ale\n",
      "Displaying the dashboards names by each scorer methods.\n"
     ]
    },
    {
     "data": {
      "text/html": [
       "<div>\n",
       "<style scoped>\n",
       "    .dataframe tbody tr th:only-of-type {\n",
       "        vertical-align: middle;\n",
       "    }\n",
       "\n",
       "    .dataframe tbody tr th {\n",
       "        vertical-align: top;\n",
       "    }\n",
       "\n",
       "    .dataframe thead th {\n",
       "        text-align: right;\n",
       "    }\n",
       "</style>\n",
       "<table border=\"1\" class=\"dataframe\">\n",
       "  <thead>\n",
       "    <tr style=\"text-align: right;\">\n",
       "      <th></th>\n",
       "      <th>Dashboard Suggestions</th>\n",
       "    </tr>\n",
       "  </thead>\n",
       "  <tbody>\n",
       "    <tr>\n",
       "      <th>0</th>\n",
       "      <td>ad analysis</td>\n",
       "    </tr>\n",
       "    <tr>\n",
       "      <th>1</th>\n",
       "      <td>r geography over time</td>\n",
       "    </tr>\n",
       "    <tr>\n",
       "      <th>2</th>\n",
       "      <td>category and segment analysis</td>\n",
       "    </tr>\n",
       "    <tr>\n",
       "      <th>3</th>\n",
       "      <td>competitive set</td>\n",
       "    </tr>\n",
       "    <tr>\n",
       "      <th>4</th>\n",
       "      <td>dimensions over time</td>\n",
       "    </tr>\n",
       "    <tr>\n",
       "      <th>5</th>\n",
       "      <td>line geogs over time</td>\n",
       "    </tr>\n",
       "    <tr>\n",
       "      <th>6</th>\n",
       "      <td>market share</td>\n",
       "    </tr>\n",
       "    <tr>\n",
       "      <th>7</th>\n",
       "      <td>package analysis</td>\n",
       "    </tr>\n",
       "    <tr>\n",
       "      <th>8</th>\n",
       "      <td>rankers</td>\n",
       "    </tr>\n",
       "    <tr>\n",
       "      <th>9</th>\n",
       "      <td>style analysis</td>\n",
       "    </tr>\n",
       "  </tbody>\n",
       "</table>\n",
       "</div>"
      ],
      "text/plain": [
       "           Dashboard Suggestions\n",
       "0                    ad analysis\n",
       "1          r geography over time\n",
       "2  category and segment analysis\n",
       "3                competitive set\n",
       "4           dimensions over time\n",
       "5           line geogs over time\n",
       "6                   market share\n",
       "7               package analysis\n",
       "8                        rankers\n",
       "9                 style analysis"
      ]
     },
     "metadata": {},
     "output_type": "display_data"
    }
   ],
   "source": [
    "start = timeit.default_timer()\n",
    "\n",
    "# FUNCTION CALLING\n",
    "fuzzywuzzy_scorers_suggestions(input_query.lower(), mastercorpus)\n",
    "\n",
    "# FUNCTION CALLING \n",
    "scoreSortedDf = fuzzywuzzy_scorers_similiarity(scorers=fuzzyScorers, suggestions_count = 10,sort_scorers= scorersSorting)\n",
    "\n",
    "# creating column names, list to append suggestions\n",
    "\n",
    "fuzzyScorers = ['suggestion','token_set_ratio_sugg']\n",
    "scorersSorting = ['token_set_ratio_sugg']\n",
    "\n",
    "allScorersOutput = []\n",
    "\n",
    "fuzzywuzzySearchOutput = []\n",
    "\n",
    "\n",
    "# FUNCTION CALLING\n",
    "fuzzywuzzyDashboardsList = list(dashboard_names_suggestion(master, scoreSortedDf['suggestion'][:10]))\n",
    "\n",
    "fuzzywuzzySearchOutput = list(dict.fromkeys(fuzzywuzzyDashboardsList))\n",
    "allScorersOutput.append(fuzzywuzzySearchOutput[:10])\n",
    "\n",
    "\n",
    "column_names = ['Dashboard Suggestions']\n",
    "finalSuggestionDF = pd.DataFrame(allScorersOutput).transpose().set_axis(column_names, axis =1)\n",
    "\n",
    "stop = timeit.default_timer()\n",
    "execution_time = stop - start\n",
    "print(\"Time taken by Method: \"+str(execution_time))\n",
    "\n",
    "\n",
    "print('User Search : ' + str(input_query))\n",
    "\n",
    "print(\"Displaying the dashboards names by each scorer methods.\")\n",
    "display(finalSuggestionDF)"
   ]
  },
  {
   "cell_type": "code",
   "execution_count": 82,
   "metadata": {},
   "outputs": [
    {
     "data": {
      "text/html": [
       "<div>\n",
       "<style scoped>\n",
       "    .dataframe tbody tr th:only-of-type {\n",
       "        vertical-align: middle;\n",
       "    }\n",
       "\n",
       "    .dataframe tbody tr th {\n",
       "        vertical-align: top;\n",
       "    }\n",
       "\n",
       "    .dataframe thead th {\n",
       "        text-align: right;\n",
       "    }\n",
       "</style>\n",
       "<table border=\"1\" class=\"dataframe\">\n",
       "  <thead>\n",
       "    <tr style=\"text-align: right;\">\n",
       "      <th></th>\n",
       "      <th>Dashboard Suggestions</th>\n",
       "      <th>suggestion</th>\n",
       "    </tr>\n",
       "  </thead>\n",
       "  <tbody>\n",
       "    <tr>\n",
       "      <th>0</th>\n",
       "      <td>ad analysis</td>\n",
       "      <td>dollar sales</td>\n",
       "    </tr>\n",
       "    <tr>\n",
       "      <th>1</th>\n",
       "      <td>r geography over time</td>\n",
       "      <td>amber ale</td>\n",
       "    </tr>\n",
       "    <tr>\n",
       "      <th>2</th>\n",
       "      <td>category and segment analysis</td>\n",
       "      <td>dollar sales per pt</td>\n",
       "    </tr>\n",
       "    <tr>\n",
       "      <th>3</th>\n",
       "      <td>competitive set</td>\n",
       "      <td>dollar sales change ya</td>\n",
       "    </tr>\n",
       "    <tr>\n",
       "      <th>4</th>\n",
       "      <td>dimensions over time</td>\n",
       "      <td>dollar sales per pt change ya</td>\n",
       "    </tr>\n",
       "    <tr>\n",
       "      <th>5</th>\n",
       "      <td>line geogs over time</td>\n",
       "      <td>rank (dollar)</td>\n",
       "    </tr>\n",
       "    <tr>\n",
       "      <th>6</th>\n",
       "      <td>market share</td>\n",
       "      <td>dollar sales selections</td>\n",
       "    </tr>\n",
       "    <tr>\n",
       "      <th>7</th>\n",
       "      <td>package analysis</td>\n",
       "      <td>dollar sales per percent last year</td>\n",
       "    </tr>\n",
       "    <tr>\n",
       "      <th>8</th>\n",
       "      <td>rankers</td>\n",
       "      <td>amber lage</td>\n",
       "    </tr>\n",
       "    <tr>\n",
       "      <th>9</th>\n",
       "      <td>style analysis</td>\n",
       "      <td>avery india pale ale</td>\n",
       "    </tr>\n",
       "  </tbody>\n",
       "</table>\n",
       "</div>"
      ],
      "text/plain": [
       "           Dashboard Suggestions                          suggestion\n",
       "0                    ad analysis                        dollar sales\n",
       "1          r geography over time                           amber ale\n",
       "2  category and segment analysis                 dollar sales per pt\n",
       "3                competitive set              dollar sales change ya\n",
       "4           dimensions over time       dollar sales per pt change ya\n",
       "5           line geogs over time                       rank (dollar)\n",
       "6                   market share             dollar sales selections\n",
       "7               package analysis  dollar sales per percent last year\n",
       "8                        rankers                          amber lage\n",
       "9                 style analysis                avery india pale ale"
      ]
     },
     "execution_count": 82,
     "metadata": {},
     "output_type": "execute_result"
    }
   ],
   "source": [
    "pd.concat([finalSuggestionDF['Dashboard Suggestions'],scoreSortedDf['suggestion'].reset_index()], axis =1)[['Dashboard Suggestions','suggestion']]"
   ]
  },
  {
   "cell_type": "code",
   "execution_count": null,
   "metadata": {},
   "outputs": [],
   "source": []
  }
 ],
 "metadata": {
  "kernelspec": {
   "display_name": "Python 3",
   "language": "python",
   "name": "python3"
  },
  "language_info": {
   "codemirror_mode": {
    "name": "ipython",
    "version": 3
   },
   "file_extension": ".py",
   "mimetype": "text/x-python",
   "name": "python",
   "nbconvert_exporter": "python",
   "pygments_lexer": "ipython3",
   "version": "3.8.5"
  }
 },
 "nbformat": 4,
 "nbformat_minor": 4
}
