{
 "cells": [
  {
   "cell_type": "markdown",
   "metadata": {},
   "source": [
    "### Data Import"
   ]
  },
  {
   "cell_type": "markdown",
   "metadata": {},
   "source": [
    "Downloaded the data file Customer_Service_Questions_Multiclass.csv. This file contains 5000 customer queries at an online retailer, which are classified into seven topics such as \"Shipping\", \"Product Availability\", \"Returns & Refunds\", etc. The job is to build a multi-class classifier that can automatically classify new incoming queries into these topics, so that they can be handled by the appropriate department."
   ]
  },
  {
   "cell_type": "code",
   "execution_count": 1,
   "metadata": {},
   "outputs": [],
   "source": [
    "import pandas as pd\n",
    "import numpy as np\n",
    "import matplotlib.pyplot as plt\n",
    "import seaborn as sb\n",
    "import os\n",
    "import time\n",
    "\n",
    "%matplotlib inline\n",
    "\n",
    "os.chdir(r'C:\\Users\\sriva\\OneDrive\\Desktop\\ISM6930_Text_Analytics\\Raj_Ankit_Assignment04')"
   ]
  },
  {
   "cell_type": "code",
   "execution_count": 2,
   "metadata": {},
   "outputs": [
    {
     "name": "stdout",
     "output_type": "stream",
     "text": [
      "(5000, 2)\n"
     ]
    },
    {
     "data": {
      "text/html": [
       "<div>\n",
       "<style scoped>\n",
       "    .dataframe tbody tr th:only-of-type {\n",
       "        vertical-align: middle;\n",
       "    }\n",
       "\n",
       "    .dataframe tbody tr th {\n",
       "        vertical-align: top;\n",
       "    }\n",
       "\n",
       "    .dataframe thead th {\n",
       "        text-align: right;\n",
       "    }\n",
       "</style>\n",
       "<table border=\"1\" class=\"dataframe\">\n",
       "  <thead>\n",
       "    <tr style=\"text-align: right;\">\n",
       "      <th></th>\n",
       "      <th>question</th>\n",
       "      <th>topic</th>\n",
       "    </tr>\n",
       "  </thead>\n",
       "  <tbody>\n",
       "    <tr>\n",
       "      <th>0</th>\n",
       "      <td>Hi! If I sign up for your email list, can I se...</td>\n",
       "      <td>Sales/Promotions</td>\n",
       "    </tr>\n",
       "    <tr>\n",
       "      <th>1</th>\n",
       "      <td>I'm going to be out of the country for about a...</td>\n",
       "      <td>Shipping</td>\n",
       "    </tr>\n",
       "    <tr>\n",
       "      <th>2</th>\n",
       "      <td>I was wondering if you'd be able to overnight ...</td>\n",
       "      <td>Shipping</td>\n",
       "    </tr>\n",
       "    <tr>\n",
       "      <th>3</th>\n",
       "      <td>The Swingline electronic stapler (472555) look...</td>\n",
       "      <td>Shipping</td>\n",
       "    </tr>\n",
       "    <tr>\n",
       "      <th>4</th>\n",
       "      <td>I think this cosmetic bag would work great for...</td>\n",
       "      <td>Shipping</td>\n",
       "    </tr>\n",
       "  </tbody>\n",
       "</table>\n",
       "</div>"
      ],
      "text/plain": [
       "                                            question             topic\n",
       "0  Hi! If I sign up for your email list, can I se...  Sales/Promotions\n",
       "1  I'm going to be out of the country for about a...          Shipping\n",
       "2  I was wondering if you'd be able to overnight ...          Shipping\n",
       "3  The Swingline electronic stapler (472555) look...          Shipping\n",
       "4  I think this cosmetic bag would work great for...          Shipping"
      ]
     },
     "execution_count": 2,
     "metadata": {},
     "output_type": "execute_result"
    }
   ],
   "source": [
    "customer_service_data = pd.read_csv('Customer_Service_Questions_Multiclass.csv')\n",
    "print(customer_service_data.shape)\n",
    "customer_service_data.head()"
   ]
  },
  {
   "cell_type": "markdown",
   "metadata": {},
   "source": [
    "### Data Preprocessing"
   ]
  },
  {
   "cell_type": "code",
   "execution_count": 3,
   "metadata": {},
   "outputs": [],
   "source": [
    "from nltk.tokenize import regexp_tokenize\n",
    "from nltk.stem import WordNetLemmatizer\n",
    "from nltk.corpus import stopwords\n",
    "\n",
    "stop_words = stopwords.words('english')\n",
    "word_lemmatizer = WordNetLemmatizer()"
   ]
  },
  {
   "cell_type": "code",
   "execution_count": 4,
   "metadata": {},
   "outputs": [
    {
     "data": {
      "text/html": [
       "<div>\n",
       "<style scoped>\n",
       "    .dataframe tbody tr th:only-of-type {\n",
       "        vertical-align: middle;\n",
       "    }\n",
       "\n",
       "    .dataframe tbody tr th {\n",
       "        vertical-align: top;\n",
       "    }\n",
       "\n",
       "    .dataframe thead th {\n",
       "        text-align: right;\n",
       "    }\n",
       "</style>\n",
       "<table border=\"1\" class=\"dataframe\">\n",
       "  <thead>\n",
       "    <tr style=\"text-align: right;\">\n",
       "      <th></th>\n",
       "      <th>question</th>\n",
       "      <th>topic</th>\n",
       "      <th>cleaned_question</th>\n",
       "    </tr>\n",
       "  </thead>\n",
       "  <tbody>\n",
       "    <tr>\n",
       "      <th>0</th>\n",
       "      <td>Hi! If I sign up for your email list, can I se...</td>\n",
       "      <td>Sales/Promotions</td>\n",
       "      <td>hi sign email list select get email exclusivel...</td>\n",
       "    </tr>\n",
       "    <tr>\n",
       "      <th>1</th>\n",
       "      <td>I'm going to be out of the country for about a...</td>\n",
       "      <td>Shipping</td>\n",
       "      <td>going country week travel going getting animal...</td>\n",
       "    </tr>\n",
       "    <tr>\n",
       "      <th>2</th>\n",
       "      <td>I was wondering if you'd be able to overnight ...</td>\n",
       "      <td>Shipping</td>\n",
       "      <td>wondering able overnight jacket item trenton nj</td>\n",
       "    </tr>\n",
       "    <tr>\n",
       "      <th>3</th>\n",
       "      <td>The Swingline electronic stapler (472555) look...</td>\n",
       "      <td>Shipping</td>\n",
       "      <td>swingline electronic stapler look really great...</td>\n",
       "    </tr>\n",
       "    <tr>\n",
       "      <th>4</th>\n",
       "      <td>I think this cosmetic bag would work great for...</td>\n",
       "      <td>Shipping</td>\n",
       "      <td>think cosmetic bag would work great however kn...</td>\n",
       "    </tr>\n",
       "  </tbody>\n",
       "</table>\n",
       "</div>"
      ],
      "text/plain": [
       "                                            question             topic  \\\n",
       "0  Hi! If I sign up for your email list, can I se...  Sales/Promotions   \n",
       "1  I'm going to be out of the country for about a...          Shipping   \n",
       "2  I was wondering if you'd be able to overnight ...          Shipping   \n",
       "3  The Swingline electronic stapler (472555) look...          Shipping   \n",
       "4  I think this cosmetic bag would work great for...          Shipping   \n",
       "\n",
       "                                    cleaned_question  \n",
       "0  hi sign email list select get email exclusivel...  \n",
       "1  going country week travel going getting animal...  \n",
       "2    wondering able overnight jacket item trenton nj  \n",
       "3  swingline electronic stapler look really great...  \n",
       "4  think cosmetic bag would work great however kn...  "
      ]
     },
     "execution_count": 4,
     "metadata": {},
     "output_type": "execute_result"
    }
   ],
   "source": [
    "# Tokenized, cleaned the text of the questions and lemmatized the words\n",
    "cleaned_question = []\n",
    "for question in customer_service_data['question']:\n",
    "    words_in_question = regexp_tokenize(question.lower(), r'[A-Za-z]+')\n",
    "    words_in_question = [word_lemmatizer.lemmatize(word) for word in words_in_question if word not in stop_words]\n",
    "    cleaned_question.append(' '.join(words_in_question))\n",
    "\n",
    "customer_service_data['cleaned_question'] = pd.Series(cleaned_question)\n",
    "customer_service_data.head()"
   ]
  },
  {
   "cell_type": "code",
   "execution_count": 5,
   "metadata": {},
   "outputs": [
    {
     "data": {
      "text/plain": [
       "topic\n",
       "Omnichannel               450\n",
       "Product Availability      833\n",
       "Product Comparison        806\n",
       "Product Specifications    839\n",
       "Returns & Refunds         768\n",
       "Sales/Promotions          505\n",
       "Shipping                  799\n",
       "Name: cleaned_question, dtype: int64"
      ]
     },
     "execution_count": 5,
     "metadata": {},
     "output_type": "execute_result"
    }
   ],
   "source": [
    "customer_service_data.groupby('topic')['cleaned_question'].count()"
   ]
  },
  {
   "cell_type": "code",
   "execution_count": 6,
   "metadata": {},
   "outputs": [],
   "source": [
    "# Train-test split, Tfidf vector creation and label encoding of the y variable\n",
    "\n",
    "from sklearn.model_selection import train_test_split\n",
    "from sklearn.feature_extraction.text import TfidfVectorizer\n",
    "from sklearn.preprocessing import LabelEncoder\n",
    "\n",
    "X_train, X_test, y_train, y_test = train_test_split(customer_service_data['cleaned_question'], customer_service_data['topic'],\n",
    "                                                   test_size = 0.2, random_state = 95)\n",
    "\n",
    "vector = TfidfVectorizer(analyzer = 'word', token_pattern = r'\\w{1,}', max_features = 5000)\n",
    "vector = vector.fit(customer_service_data['cleaned_question'])\n",
    "tfidf_Xtrain = vector.transform(X_train)\n",
    "tfidf_Xtest = vector.transform(X_test)\n",
    "\n",
    "label_encoder = LabelEncoder()\n",
    "y_train = label_encoder.fit_transform(y_train)\n",
    "y_test = label_encoder.transform(y_test)"
   ]
  },
  {
   "cell_type": "markdown",
   "metadata": {},
   "source": [
    "### Model creation using Linear SVC, XGBoost and Neural Networks Classifiers"
   ]
  },
  {
   "cell_type": "markdown",
   "metadata": {},
   "source": [
    "##### Linear SVC Classifier"
   ]
  },
  {
   "cell_type": "code",
   "execution_count": 7,
   "metadata": {},
   "outputs": [
    {
     "name": "stdout",
     "output_type": "stream",
     "text": [
      "Elapsed clock time:  1.0251667764451768e-05  seconds\n"
     ]
    }
   ],
   "source": [
    "# Imported the required libraries for the multiclass classification model Linear SVC\n",
    "from sklearn.svm import LinearSVC\n",
    "from sklearn.metrics import accuracy_score, precision_score, recall_score\n",
    "from sklearn.metrics import confusion_matrix, classification_report\n",
    "\n",
    "start_time = time.time()\n",
    "\n",
    "# Hyperparameters tuning\n",
    "# Used a random state to set the seed, fit_intersept set as false so that no intercept is used in the calculation\n",
    "# Max iterations set to 1000\n",
    "svm_model = LinearSVC(random_state = 95, fit_intercept = False, penalty = 'l2', max_iter = 1000)\n",
    "svm_model.fit(tfidf_Xtrain, y_train)\n",
    "\n",
    "y_predict_svm = svm_model.predict(tfidf_Xtest)\n",
    "svm_accuracy = accuracy_score(y_test, y_predict_svm)\n",
    "\n",
    "print('Elapsed clock time: ', (time.time() - start_time)/3600, ' seconds')"
   ]
  },
  {
   "cell_type": "code",
   "execution_count": 8,
   "metadata": {},
   "outputs": [
    {
     "name": "stdout",
     "output_type": "stream",
     "text": [
      "Elapsed clock time:  0.006024027466773987  seconds\n"
     ]
    }
   ],
   "source": [
    "# Imported the required libraries for the boosting ensemble model XGBoost\n",
    "from xgboost import XGBClassifier\n",
    "\n",
    "start_time = time.time()\n",
    "\n",
    "num_classes = np.max(y_train) + 1\n",
    "\n",
    "# Hyperparameters tuning\n",
    "# Objective set to do multiclass classification, fit_intersept set as false so that no intercept is used in the calculation\n",
    "# As the data is large enough, n_estimators set to 100 to limit the number of gradient boosted trees \n",
    "# max_depth set to None so that each tree expands until every leaf is pure\n",
    "# num_classes to set the number of distinct classes for classification\n",
    "\n",
    "xgb_model = XGBClassifier(objective='multi:softmax', n_estimators = 100, max_depth = None, num_classes = num_classes)\n",
    "xgb_model.fit(tfidf_Xtrain, y_train)\n",
    "\n",
    "y_predict_xgb = xgb_model.predict(tfidf_Xtest)\n",
    "xgb_accuracy = accuracy_score(y_test, y_predict_xgb)\n",
    "\n",
    "print('Elapsed clock time: ', (time.time() - start_time)/3600, ' seconds')"
   ]
  },
  {
   "cell_type": "code",
   "execution_count": 9,
   "metadata": {},
   "outputs": [
    {
     "name": "stderr",
     "output_type": "stream",
     "text": [
      "Using TensorFlow backend.\n"
     ]
    }
   ],
   "source": [
    "# Imported the required libraries for the neural network model\n",
    "from tensorflow import keras\n",
    "from keras.models import Sequential\n",
    "from keras.layers import Dense, Activation, Dropout\n",
    "from keras.preprocessing.text import Tokenizer\n",
    "from keras import utils"
   ]
  },
  {
   "cell_type": "code",
   "execution_count": 10,
   "metadata": {},
   "outputs": [],
   "source": [
    "# Preparing data for the neural network model\n",
    "text_tokenizer = Tokenizer(char_level = False)\n",
    "text_tokenizer.fit_on_texts(X_train)\n",
    "\n",
    "neural_net_Xtrain = text_tokenizer.texts_to_matrix(X_train)\n",
    "neural_net_Xtest = text_tokenizer.texts_to_matrix(X_test)\n",
    "\n",
    "neural_net_Ytrain = utils.to_categorical(y_train, num_classes)\n",
    "neural_net_Ytest = utils.to_categorical(y_test, num_classes)"
   ]
  },
  {
   "cell_type": "code",
   "execution_count": 11,
   "metadata": {},
   "outputs": [
    {
     "name": "stdout",
     "output_type": "stream",
     "text": [
      "Elapsed clock time:  14.508882999420166  seconds\n"
     ]
    }
   ],
   "source": [
    "start_time = time.time()\n",
    "\n",
    "#Build the neural network model\n",
    "\n",
    "# Hyperparameters tuning\n",
    "# Number of hidden units in the first and second layer set to 512 and 256 respectively\n",
    "# Input shape set as the number of attributes in each row of the training data\n",
    "# Activation function relu used\n",
    "# Dropout layer added between the fully connected dense layers to avoid overfitting\n",
    "# Softmax activation used in the output layer to support multiclass classification\n",
    "\n",
    "neural_net_model = Sequential()\n",
    "neural_net_model.add(Dense(512, activation = 'relu', input_shape = (neural_net_Xtrain.shape[1],)))\n",
    "neural_net_model.add(Dropout(0.5))\n",
    "neural_net_model.add(Dense(256, activation = 'relu'))\n",
    "neural_net_model.add(Dropout(0.25))\n",
    "neural_net_model.add(Dense(num_classes, activation = 'softmax'))\n",
    "\n",
    "# Model compiled using the optimizer adam and categorical_crossentropy loss function for the metric accuracy \n",
    "neural_net_model.compile(optimizer = 'adam', loss = 'categorical_crossentropy', metrics = ['accuracy'])\n",
    "\n",
    "# Batch size set to 128 to limit the number of samples to be shown to the network before a weight update\n",
    "# Epoch set to 10 to separate training into 10 distinct phases\n",
    "# Verbose set to 0 to hide the training progress for each epoch\n",
    "# 10% of the data set apart as validation data to evaluate the loss and any model metrics on the data at the end of each epoch\n",
    "neural_net_model.fit(neural_net_Xtrain, neural_net_Ytrain, batch_size = 128, epochs = 10, verbose = 0, validation_split = 0.1)\n",
    "\n",
    "y_predict_nn = neural_net_model.predict(neural_net_Xtest)\n",
    "nn_accuracy = neural_net_model.evaluate(neural_net_Xtest, neural_net_Ytest, batch_size = 128, verbose = 0)[1]\n",
    "\n",
    "print('Elapsed clock time: ', time.time() - start_time, ' seconds')"
   ]
  },
  {
   "cell_type": "markdown",
   "metadata": {},
   "source": [
    "### Evaluation of the classification models"
   ]
  },
  {
   "cell_type": "markdown",
   "metadata": {},
   "source": [
    "##### Accuracy comparison"
   ]
  },
  {
   "cell_type": "code",
   "execution_count": 12,
   "metadata": {},
   "outputs": [
    {
     "name": "stdout",
     "output_type": "stream",
     "text": [
      "Accuracy of Linear SVC Classifier: 95.7%\n",
      "Accuracy of XGBoost Classifier: 95.1%\n",
      "Accuracy of Neural Network Classifier: 95.5%\n"
     ]
    }
   ],
   "source": [
    "# Printed the accuracy of each classification model in %s\n",
    "print('Accuracy of Linear SVC Classifier: '+'{:.1%}'.format(svm_accuracy))\n",
    "print('Accuracy of XGBoost Classifier: '+'{:.1%}'.format(xgb_accuracy))\n",
    "print('Accuracy of Neural Network Classifier: '+'{:.1%}'.format(nn_accuracy))"
   ]
  },
  {
   "cell_type": "code",
   "execution_count": 13,
   "metadata": {},
   "outputs": [
    {
     "data": {
      "image/png": "[encoded data removed]",
      "text/plain": [
       "<Figure size 432x288 with 1 Axes>"
      ]
     },
     "metadata": {
      "needs_background": "light"
     },
     "output_type": "display_data"
    }
   ],
   "source": [
    "# Stored the model names and their accuracy in a dataframe\n",
    "# Plotted a barplot for accuracy\n",
    "\n",
    "classification_models = ['Linear SVC', 'XGBoost', 'Neural Network']\n",
    "model_accuracy = []\n",
    "for accuracy in (svm_accuracy, xgb_accuracy, nn_accuracy):\n",
    "    model_accuracy.append(accuracy)\n",
    "\n",
    "models_accuracy_df = pd.DataFrame({'Model': classification_models, 'Accuracy': model_accuracy})\n",
    "bar = sb.barplot(x = 'Model', y = 'Accuracy', data = models_accuracy_df)"
   ]
  },
  {
   "cell_type": "markdown",
   "metadata": {},
   "source": [
    "Classification Accuracy is simply the number of correct predictions divided by all predictions or a ratio of correct predictions to total predictions.\n",
    "From the results and the above graph, we can observe that all the classifiers are performing well and have almost the same accuracy of over 95%. Linear SVC, however, has the highest accuracy amongst all the three classifiers and the neural network is just behind by 0.2%."
   ]
  },
  {
   "cell_type": "markdown",
   "metadata": {},
   "source": [
    "##### Confusion Matrix"
   ]
  },
  {
   "cell_type": "code",
   "execution_count": 14,
   "metadata": {},
   "outputs": [],
   "source": [
    "# Created confusion matrices for the 3 models\n",
    "svm_confusion_matrix = confusion_matrix(y_test, y_predict_svm)\n",
    "xgb_confusion_matrix = confusion_matrix(y_test, y_predict_xgb)\n",
    "\n",
    "# Confusion matrix needs both labels & predictions as single-digits \n",
    "# Not as one-hot encoded vectors\n",
    "# Converted them too to single-digit ones for the neural network\n",
    "y_test_nn_1d = []\n",
    "y_pred_nn_1d = []\n",
    "\n",
    "# Iterated over a for loop to populate the single digit list of y_test and y_predict\n",
    "for i in range(len(neural_net_Ytest)):\n",
    "    prob_test = neural_net_Ytest[i]\n",
    "    prob_predict = y_predict_nn[i]\n",
    "    index_array_test = np.nonzero(prob_test)\n",
    "    test_index = index_array_test[0].item(0)\n",
    "    y_test_nn_1d.append(test_index)\n",
    "    predicted_index = np.argmax(prob_predict)\n",
    "    y_pred_nn_1d.append(predicted_index)\n",
    "    \n",
    "nn_confusion_matrix = confusion_matrix(y_test_nn_1d, y_pred_nn_1d)"
   ]
  },
  {
   "cell_type": "code",
   "execution_count": 15,
   "metadata": {},
   "outputs": [],
   "source": [
    "# Created dictionaries to store topics and topic ids\n",
    "customer_service_data['topic_id'] = customer_service_data['topic'].factorize()[0]\n",
    "topic_data = customer_service_data[['topic', 'topic_id']].drop_duplicates().sort_values('topic_id')\n",
    "topic_to_id = dict(topic_data.values)\n",
    "id_to_topic = dict(topic_data[['topic_id', 'topic']].values)\n",
    "\n",
    "# Created a function to plot the confusion matrices of the 3 models\n",
    "def plotConfusionMatrix(model_confusion_matrix, model_name, i):\n",
    "    plt.subplot(i)\n",
    "    sb.heatmap(model_confusion_matrix, annot = True, fmt = 'd', cmap = 'BuPu',\n",
    "               xticklabels = topic_data['topic'].values, yticklabels = topic_data['topic'].values)\n",
    "    plt.title('Confusion Matrix of the %s'%model_name)"
   ]
  },
  {
   "cell_type": "code",
   "execution_count": 16,
   "metadata": {},
   "outputs": [
    {
     "data": {
      "image/png": "[encoded data removed]",
      "text/plain": [
       "<Figure size 2160x576 with 6 Axes>"
      ]
     },
     "metadata": {
      "needs_background": "light"
     },
     "output_type": "display_data"
    }
   ],
   "source": [
    "# Plotted the heatmap of the 3 confusion matrices\n",
    "plt.figure(figsize=(30, 8))\n",
    "plotConfusionMatrix(svm_confusion_matrix, 'Linear SVC', 131)\n",
    "plotConfusionMatrix(xgb_confusion_matrix, 'XGBoost', 132)\n",
    "plotConfusionMatrix(nn_confusion_matrix, 'Neural Network', 133)\n",
    "\n",
    "plt.show()"
   ]
  },
  {
   "cell_type": "markdown",
   "metadata": {},
   "source": [
    "As shown in the above heatmaps, number of correct predictions for each classifier is displayed diagonally from left to bottom right.\n",
    "We can use this to compare how different models are correctly predicting a topic compared to others.\n",
    "\n",
    "Below are a few noticeable predictions:\n",
    "\n",
    "* Linear SVC Classifier correctly identified/predicted Product Specifications 171 times. Apart from that, it predicted the topic incorrectly as Product Availability 11 times, and as Shipping 4 times.\n",
    "* XGBoost Classifier correctly identified/predicted Product Specifications 171 times. Apart from that, it predicted the topic incorrectly as Product Availability 5 times, as Shipping 7 times, and as Sales/Promotions 3 times.\n",
    "* Neural Network Classifier correctly identified/predicted Product Specifications 172 times. Apart from that, it predicted the topic incorrectly as Product Availability 11 times, and as Shipping 3 times.\n",
    "        \n",
    "Similiarly, we can compare the results for other topics. "
   ]
  },
  {
   "cell_type": "markdown",
   "metadata": {},
   "source": [
    "##### Evaluation of other metrics using Classification Report"
   ]
  },
  {
   "cell_type": "code",
   "execution_count": 17,
   "metadata": {},
   "outputs": [
    {
     "name": "stdout",
     "output_type": "stream",
     "text": [
      "Classification Report of Linear SVC:\n",
      "              precision    recall  f1-score   support\n",
      "\n",
      "           0       1.00      1.00      1.00        96\n",
      "           1       0.94      0.95      0.94       164\n",
      "           2       0.92      0.90      0.91       163\n",
      "           3       0.91      0.92      0.91       186\n",
      "           4       0.99      1.00      1.00       151\n",
      "           5       0.99      0.99      0.99        90\n",
      "           6       0.99      0.99      0.99       150\n",
      "\n",
      "    accuracy                           0.96      1000\n",
      "   macro avg       0.96      0.96      0.96      1000\n",
      "weighted avg       0.96      0.96      0.96      1000\n",
      "\n",
      "*********************************************************************\n",
      "Classification Report of Random Forests:\n",
      "              precision    recall  f1-score   support\n",
      "\n",
      "           0       0.96      0.99      0.97        96\n",
      "           1       0.90      0.94      0.92       164\n",
      "           2       0.96      0.90      0.93       163\n",
      "           3       0.90      0.92      0.91       186\n",
      "           4       0.99      1.00      0.99       151\n",
      "           5       0.99      0.96      0.97        90\n",
      "           6       0.99      0.99      0.99       150\n",
      "\n",
      "    accuracy                           0.95      1000\n",
      "   macro avg       0.96      0.96      0.96      1000\n",
      "weighted avg       0.95      0.95      0.95      1000\n",
      "\n",
      "*********************************************************************\n",
      "Classification Report of Neural Network:\n",
      "              precision    recall  f1-score   support\n",
      "\n",
      "           0       1.00      1.00      1.00        96\n",
      "           1       0.93      0.94      0.93       164\n",
      "           2       0.92      0.90      0.91       163\n",
      "           3       0.91      0.91      0.91       186\n",
      "           4       1.00      1.00      1.00       151\n",
      "           5       0.99      0.98      0.98        90\n",
      "           6       0.98      0.99      0.99       150\n",
      "\n",
      "    accuracy                           0.95      1000\n",
      "   macro avg       0.96      0.96      0.96      1000\n",
      "weighted avg       0.95      0.95      0.95      1000\n",
      "\n"
     ]
    }
   ],
   "source": [
    "print('Classification Report of Linear SVC:')\n",
    "print(classification_report(y_test, y_predict_svm))\n",
    "print('*********************************************************************')\n",
    "print('Classification Report of Random Forests:')\n",
    "print(classification_report(y_test, y_predict_xgb))\n",
    "print('*********************************************************************')\n",
    "print('Classification Report of Neural Network:')\n",
    "print(classification_report(y_test_nn_1d, y_pred_nn_1d))"
   ]
  },
  {
   "cell_type": "markdown",
   "metadata": {},
   "source": [
    "* Precision is the ability of a classiifer not to label an instance positive that is actually negative. \n",
    "* Recall is the ability of a classifier to find all positive instances. Said another way, “for all instances that were actually positive, what percent was classified correctly?”\n",
    "* The F1 score is a weighted harmonic mean of precision and recall such that the best score is 1.0 and the worst is 0.0.\n",
    "* Support is the number of actual occurrences of the class in the specified dataset.\n",
    "\n",
    "Looking at the results, we can observe that all the 3 classsifiers give almost the same precision and recall values, but Linear SVC provide the best precision and recall values among the 3 classifiers. Even the f1-score is greater than Neural Network and XGBoost Classifier."
   ]
  },
  {
   "cell_type": "markdown",
   "metadata": {},
   "source": [
    "##### Tested the prediction accuracy using a random example"
   ]
  },
  {
   "cell_type": "code",
   "execution_count": 18,
   "metadata": {},
   "outputs": [
    {
     "name": "stdout",
     "output_type": "stream",
     "text": [
      "Prediction by Linear SVC Classifier:  Product Specifications\n",
      "Prediction by XGBoost Classifier:  Product Specifications\n",
      "Prediction by Neural Network Classifier:  Product Specifications\n"
     ]
    }
   ],
   "source": [
    "# Prediction example, I took a random question from the dataset \n",
    "# To check if the models are able to predict the topic correctly\n",
    "\n",
    "# Created a function to return the prediction\n",
    "def predictTopic(text, model, isNeural):\n",
    "    if isNeural == False:\n",
    "        text_features = vector.transform(text)\n",
    "        prediction = model.predict(text_features)\n",
    "    else:\n",
    "        text_features = text_tokenizer.texts_to_matrix(text)\n",
    "        prediction = model.predict(text_features)\n",
    "        prediction = np.argmax(prediction)\n",
    "    return prediction\n",
    "\n",
    "\n",
    "question = [\"Do you know how much cholesterol is in the whey fuel (034574) has?\"]\n",
    "\n",
    "print('Prediction by Linear SVC Classifier: ', id_to_topic[predictTopic(question, svm_model, isNeural = False)[0]])\n",
    "print('Prediction by XGBoost Classifier: ', id_to_topic[predictTopic(question, xgb_model, isNeural = False)[0]])\n",
    "print('Prediction by Neural Network Classifier: ', id_to_topic[predictTopic(question, neural_net_model, isNeural = True)])"
   ]
  },
  {
   "cell_type": "markdown",
   "metadata": {},
   "source": [
    "We can see that all the classifiers are able to predict the topic correctly."
   ]
  },
  {
   "cell_type": "markdown",
   "metadata": {},
   "source": [
    "Overall, we observed that although the performances of all the 3 classifiers were good but Linear SVC slighlty outperformed others. The precision, recall and F-score for all the categories is slightly better in Linear SVC classifier.\n",
    "And moreover, Linear SVC is the fastest among the 3 with an elapsed time of 1.1.0251667764451768e-05 seconds and has the highest accuracy of 95.7%."
   ]
  }
 ],
 "metadata": {
  "kernelspec": {
   "display_name": "Python 3",
   "language": "python",
   "name": "python3"
  },
  "language_info": {
   "codemirror_mode": {
    "name": "ipython",
    "version": 3
   },
   "file_extension": ".py",
   "mimetype": "text/x-python",
   "name": "python",
   "nbconvert_exporter": "python",
   "pygments_lexer": "ipython3",
   "version": "3.8.5"
  }
 },
 "nbformat": 4,
 "nbformat_minor": 4
}
